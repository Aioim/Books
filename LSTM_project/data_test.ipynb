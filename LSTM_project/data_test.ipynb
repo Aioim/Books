{
 "cells": [
  {
   "cell_type": "code",
   "execution_count": 6,
   "metadata": {},
   "outputs": [],
   "source": [
    "import torch\n",
    "import torch.nn as nn\n",
    "import numpy as np\n",
    "import pandas as pd\n",
    "import matplotlib.pyplot as plt\n",
    "from sklearn.preprocessing import MinMaxScaler\n",
    "from torch.utils.data import Dataset, DataLoader,TensorDataset\n",
    "\n",
    "# 生成示例多参数时间序列数据\n",
    "# 加载数据\n",
    "df = pd.read_csv(\n",
    "    r\"C:\\Users\\AIO\\Desktop\\Walmart.csv\", parse_dates=[\"Date\"], index_col=\"Date\"\n",
    ")\n",
    "df = df[\n",
    "    [\"Weekly_Sales\", \"Holiday_Flag\", \"Temperature\", \"Fuel_Price\", \"CPI\", \"Unemployment\"]\n",
    "]"
   ]
  },
  {
   "cell_type": "code",
   "execution_count": 7,
   "metadata": {},
   "outputs": [
    {
     "data": {
      "text/html": [
       "<div>\n",
       "<style scoped>\n",
       "    .dataframe tbody tr th:only-of-type {\n",
       "        vertical-align: middle;\n",
       "    }\n",
       "\n",
       "    .dataframe tbody tr th {\n",
       "        vertical-align: top;\n",
       "    }\n",
       "\n",
       "    .dataframe thead th {\n",
       "        text-align: right;\n",
       "    }\n",
       "</style>\n",
       "<table border=\"1\" class=\"dataframe\">\n",
       "  <thead>\n",
       "    <tr style=\"text-align: right;\">\n",
       "      <th></th>\n",
       "      <th>Weekly_Sales</th>\n",
       "      <th>Holiday_Flag</th>\n",
       "      <th>Temperature</th>\n",
       "      <th>Fuel_Price</th>\n",
       "      <th>CPI</th>\n",
       "      <th>Unemployment</th>\n",
       "    </tr>\n",
       "    <tr>\n",
       "      <th>Date</th>\n",
       "      <th></th>\n",
       "      <th></th>\n",
       "      <th></th>\n",
       "      <th></th>\n",
       "      <th></th>\n",
       "      <th></th>\n",
       "    </tr>\n",
       "  </thead>\n",
       "  <tbody>\n",
       "    <tr>\n",
       "      <th>05-02-2010</th>\n",
       "      <td>1643690.90</td>\n",
       "      <td>0</td>\n",
       "      <td>42.31</td>\n",
       "      <td>2.572</td>\n",
       "      <td>211.096358</td>\n",
       "      <td>8.106</td>\n",
       "    </tr>\n",
       "    <tr>\n",
       "      <th>12-02-2010</th>\n",
       "      <td>1641957.44</td>\n",
       "      <td>1</td>\n",
       "      <td>38.51</td>\n",
       "      <td>2.548</td>\n",
       "      <td>211.242170</td>\n",
       "      <td>8.106</td>\n",
       "    </tr>\n",
       "    <tr>\n",
       "      <th>19-02-2010</th>\n",
       "      <td>1611968.17</td>\n",
       "      <td>0</td>\n",
       "      <td>39.93</td>\n",
       "      <td>2.514</td>\n",
       "      <td>211.289143</td>\n",
       "      <td>8.106</td>\n",
       "    </tr>\n",
       "    <tr>\n",
       "      <th>26-02-2010</th>\n",
       "      <td>1409727.59</td>\n",
       "      <td>0</td>\n",
       "      <td>46.63</td>\n",
       "      <td>2.561</td>\n",
       "      <td>211.319643</td>\n",
       "      <td>8.106</td>\n",
       "    </tr>\n",
       "    <tr>\n",
       "      <th>05-03-2010</th>\n",
       "      <td>1554806.68</td>\n",
       "      <td>0</td>\n",
       "      <td>46.50</td>\n",
       "      <td>2.625</td>\n",
       "      <td>211.350143</td>\n",
       "      <td>8.106</td>\n",
       "    </tr>\n",
       "    <tr>\n",
       "      <th>...</th>\n",
       "      <td>...</td>\n",
       "      <td>...</td>\n",
       "      <td>...</td>\n",
       "      <td>...</td>\n",
       "      <td>...</td>\n",
       "      <td>...</td>\n",
       "    </tr>\n",
       "    <tr>\n",
       "      <th>28-09-2012</th>\n",
       "      <td>713173.95</td>\n",
       "      <td>0</td>\n",
       "      <td>64.88</td>\n",
       "      <td>3.997</td>\n",
       "      <td>192.013558</td>\n",
       "      <td>8.684</td>\n",
       "    </tr>\n",
       "    <tr>\n",
       "      <th>05-10-2012</th>\n",
       "      <td>733455.07</td>\n",
       "      <td>0</td>\n",
       "      <td>64.89</td>\n",
       "      <td>3.985</td>\n",
       "      <td>192.170412</td>\n",
       "      <td>8.667</td>\n",
       "    </tr>\n",
       "    <tr>\n",
       "      <th>12-10-2012</th>\n",
       "      <td>734464.36</td>\n",
       "      <td>0</td>\n",
       "      <td>54.47</td>\n",
       "      <td>4.000</td>\n",
       "      <td>192.327265</td>\n",
       "      <td>8.667</td>\n",
       "    </tr>\n",
       "    <tr>\n",
       "      <th>19-10-2012</th>\n",
       "      <td>718125.53</td>\n",
       "      <td>0</td>\n",
       "      <td>56.47</td>\n",
       "      <td>3.969</td>\n",
       "      <td>192.330854</td>\n",
       "      <td>8.667</td>\n",
       "    </tr>\n",
       "    <tr>\n",
       "      <th>26-10-2012</th>\n",
       "      <td>760281.43</td>\n",
       "      <td>0</td>\n",
       "      <td>58.85</td>\n",
       "      <td>3.882</td>\n",
       "      <td>192.308899</td>\n",
       "      <td>8.667</td>\n",
       "    </tr>\n",
       "  </tbody>\n",
       "</table>\n",
       "<p>6435 rows × 6 columns</p>\n",
       "</div>"
      ],
      "text/plain": [
       "            Weekly_Sales  Holiday_Flag  Temperature  Fuel_Price         CPI  \\\n",
       "Date                                                                          \n",
       "05-02-2010    1643690.90             0        42.31       2.572  211.096358   \n",
       "12-02-2010    1641957.44             1        38.51       2.548  211.242170   \n",
       "19-02-2010    1611968.17             0        39.93       2.514  211.289143   \n",
       "26-02-2010    1409727.59             0        46.63       2.561  211.319643   \n",
       "05-03-2010    1554806.68             0        46.50       2.625  211.350143   \n",
       "...                  ...           ...          ...         ...         ...   \n",
       "28-09-2012     713173.95             0        64.88       3.997  192.013558   \n",
       "05-10-2012     733455.07             0        64.89       3.985  192.170412   \n",
       "12-10-2012     734464.36             0        54.47       4.000  192.327265   \n",
       "19-10-2012     718125.53             0        56.47       3.969  192.330854   \n",
       "26-10-2012     760281.43             0        58.85       3.882  192.308899   \n",
       "\n",
       "            Unemployment  \n",
       "Date                      \n",
       "05-02-2010         8.106  \n",
       "12-02-2010         8.106  \n",
       "19-02-2010         8.106  \n",
       "26-02-2010         8.106  \n",
       "05-03-2010         8.106  \n",
       "...                  ...  \n",
       "28-09-2012         8.684  \n",
       "05-10-2012         8.667  \n",
       "12-10-2012         8.667  \n",
       "19-10-2012         8.667  \n",
       "26-10-2012         8.667  \n",
       "\n",
       "[6435 rows x 6 columns]"
      ]
     },
     "execution_count": 7,
     "metadata": {},
     "output_type": "execute_result"
    }
   ],
   "source": [
    "df"
   ]
  },
  {
   "cell_type": "code",
   "execution_count": 10,
   "metadata": {},
   "outputs": [
    {
     "ename": "AttributeError",
     "evalue": "'numpy.ndarray' object has no attribute 'assign'",
     "output_type": "error",
     "traceback": [
      "\u001b[1;31m---------------------------------------------------------------------------\u001b[0m",
      "\u001b[1;31mAttributeError\u001b[0m                            Traceback (most recent call last)",
      "Cell \u001b[1;32mIn[10], line 3\u001b[0m\n\u001b[0;32m      1\u001b[0m (\n\u001b[0;32m      2\u001b[0m     \u001b[43mdf\u001b[49m\u001b[38;5;241;43m.\u001b[39;49m\u001b[43mHoliday_Flag\u001b[49m\u001b[38;5;241;43m.\u001b[39;49m\u001b[43munique\u001b[49m\u001b[43m(\u001b[49m\u001b[43m)\u001b[49m\n\u001b[1;32m----> 3\u001b[0m \u001b[43m    \u001b[49m\u001b[38;5;241;43m.\u001b[39;49m\u001b[43massign\u001b[49m(test\u001b[38;5;241m=\u001b[39m df)\n\u001b[0;32m      4\u001b[0m )\n",
      "\u001b[1;31mAttributeError\u001b[0m: 'numpy.ndarray' object has no attribute 'assign'"
     ]
    }
   ],
   "source": [
    "(\n",
    "    df.Holiday_Flag.unique()\n",
    "    .assign(test= df)\n",
    ")"
   ]
  },
  {
   "cell_type": "code",
   "execution_count": 4,
   "metadata": {},
   "outputs": [
    {
     "name": "stdout",
     "output_type": "stream",
     "text": [
      "[ 1  1  1  1  1  1  1  1  1  1  1  1  1 -1  1  1  1  1  1  1  1 -1  1  1\n",
      "  1 -1  1  1  1  1  1  1  1  1  1  1  1  1  1  1  1 -1  1  1  1  1  1  1\n",
      "  1  1  1  1  1  1 -1  1  1 -1  1  1  1  1  1  1  1  1  1  1 -1  1  1  1\n",
      "  1  1  1  1  1  1  1  1  1  1  1  1  1  1  1  1  1 -1  1  1  1  1  1 -1\n",
      "  1  1  1  1 -1]\n"
     ]
    }
   ],
   "source": [
    "import numpy as np\n",
    "from sklearn.ensemble import IsolationForest\n",
    "from sklearn.datasets import make_blobs\n",
    "\n",
    "# 生成数据集\n",
    "X, _ = make_blobs(n_samples=100, centers=1, cluster_std=0.5, random_state=42)\n",
    "X = np.append(X, [[10, 10]], axis=0)  # 添加一个异常值\n",
    "\n",
    "# 初始化Isolation Forest模型\n",
    "model = IsolationForest(n_estimators=100, max_samples='auto', contamination=0.1, random_state=42)\n",
    "\n",
    "# 训练模型\n",
    "model.fit(X)\n",
    "\n",
    "# 预测异常值\n",
    "y_pred = model.predict(X)\n",
    "\n",
    "# 打印预测结果，-1表示异常值\n",
    "print(y_pred)"
   ]
  },
  {
   "cell_type": "code",
   "execution_count": 8,
   "metadata": {},
   "outputs": [
    {
     "data": {
      "text/plain": [
       "array([ 1,  2,  3,  4,  5,  6,  7,  8,  9, 10, 11, 12, 13, 14, 15, 16, 17,\n",
       "       18, 19, 20, 21, 22, 23, 24, 25, 26, 27, 28, 29, 30, 31, 32, 33, 34,\n",
       "       35, 36, 37, 38, 39, 40, 41, 42, 43, 44, 45], dtype=int64)"
      ]
     },
     "execution_count": 8,
     "metadata": {},
     "output_type": "execute_result"
    }
   ],
   "source": [
    "import pandas as pd\n",
    "def namestr(obj, namespace=None):\n",
    "    if not namespace:\n",
    "        namespace = globals()\n",
    "    names = [name for name in namespace if namespace[name] is obj]\n",
    "    return names[0]\n",
    "\n",
    "\n",
    "def data_info(data):\n",
    "    str_name = namestr(data)\n",
    "    data_info = (\n",
    "        data.nunique()\n",
    "        .to_frame()\n",
    "        .rename(columns={0: \"值数量\"})\n",
    "        .assign(值类型=data.dtypes)\n",
    "        .assign(空值=data.isnull().sum())\n",
    "        .assign(空值比例=lambda x: x.空值 / data.shape[0])\n",
    "        .assign(\n",
    "            空值比例=lambda x: x.空值比例.apply(lambda y: \"{:.2f}%\".format(100 * y))\n",
    "        )\n",
    "    )\n",
    "    data_info.rename(columns=lambda x: \"_\".join([str_name, x]),inplace=True)\n",
    "    return data_info\n",
    "\n",
    "\n",
    "# if __name__ == \"__main__\":\n",
    "df = pd.read_csv(\n",
    "    r\"C:\\Users\\AIO\\Desktop\\Walmart.csv\", parse_dates=[\"Date\"], index_col=\"Date\"\n",
    ")\n",
    "df['Store'].unique()"
   ]
  },
  {
   "cell_type": "code",
   "execution_count": 9,
   "metadata": {},
   "outputs": [],
   "source": [
    "import numpy as np\n",
    "import pandas as pd\n",
    "\n",
    "# 创建一个包含异常值的数据集\n",
    "data = pd.DataFrame({\n",
    "    'A': [1, 2, 3, 4, 5, 100, 7, 8, 9, 10],\n",
    "    'B': [10, 20, 30, 40, 50, 60, 70, 80, 90, 100]\n",
    "})\n"
   ]
  },
  {
   "cell_type": "code",
   "execution_count": 10,
   "metadata": {},
   "outputs": [
    {
     "name": "stdout",
     "output_type": "stream",
     "text": [
      "点异常的索引: (array([], dtype=int64),)\n"
     ]
    }
   ],
   "source": [
    "from scipy import stats\n",
    "\n",
    "# 计算Z-Score\n",
    "z_scores = stats.zscore(data['A'])\n",
    "\n",
    "# 设置阈值，通常Z-Score大于3或小于-3的数据点被认为是异常值\n",
    "threshold = 3\n",
    "outliers = np.where(np.abs(z_scores) > threshold)\n",
    "\n",
    "# 打印异常值的索引\n",
    "print(\"点异常的索引:\", outliers)\n"
   ]
  },
  {
   "cell_type": "code",
   "execution_count": 11,
   "metadata": {},
   "outputs": [
    {
     "name": "stdout",
     "output_type": "stream",
     "text": [
      "上下文异常的索引: (array([5], dtype=int64),)\n"
     ]
    }
   ],
   "source": [
    "from sklearn.neighbors import LocalOutlierFactor\n",
    "\n",
    "# 创建LOF模型\n",
    "lof = LocalOutlierFactor(n_neighbors=2)\n",
    "\n",
    "# 计算异常因子\n",
    "y_pred = lof.fit_predict(data)\n",
    "\n",
    "# 打印异常值的索引\n",
    "outliers = np.where(y_pred == -1)\n",
    "print(\"上下文异常的索引:\", outliers)\n"
   ]
  }
 ],
 "metadata": {
  "kernelspec": {
   "display_name": "base",
   "language": "python",
   "name": "python3"
  },
  "language_info": {
   "codemirror_mode": {
    "name": "ipython",
    "version": 3
   },
   "file_extension": ".py",
   "mimetype": "text/x-python",
   "name": "python",
   "nbconvert_exporter": "python",
   "pygments_lexer": "ipython3",
   "version": "3.11.5"
  }
 },
 "nbformat": 4,
 "nbformat_minor": 2
}
