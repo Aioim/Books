{
 "cells": [
  {
   "cell_type": "code",
   "execution_count": 1,
   "metadata": {},
   "outputs": [
    {
     "name": "stdout",
     "output_type": "stream",
     "text": [
      "(6420, 15, 6) (6420, 1)\n",
      "X.shape: (6420, 15, 6)\n"
     ]
    }
   ],
   "source": [
    "import torch\n",
    "import torch.nn as nn\n",
    "import numpy as np\n",
    "import pandas as pd\n",
    "import matplotlib.pyplot as plt\n",
    "from sklearn.preprocessing import MinMaxScaler\n",
    "from torch.utils.data import Dataset, DataLoader,TensorDataset\n",
    "\n",
    "# 生成示例多参数时间序列数据\n",
    "# 加载数据\n",
    "df = pd.read_csv(\n",
    "    r\"C:\\Users\\AIO\\Desktop\\Walmart.csv\", parse_dates=[\"Date\"], index_col=\"Date\"\n",
    ")\n",
    "df = df[\n",
    "    [\"Weekly_Sales\", \"Holiday_Flag\", \"Temperature\", \"Fuel_Price\", \"CPI\", \"Unemployment\"]\n",
    "]\n",
    "\n",
    "# 数据预处理\n",
    "scaler = MinMaxScaler(feature_range=(0, 1))\n",
    "scaled_data = scaler.fit_transform(df)\n",
    "\n",
    "\n",
    "# 创建训练数据集\n",
    "def create_dataset(data, label_col, step=1, additional=0):\n",
    "    data = data\n",
    "    data_copy = data.copy()\n",
    "    data_copy[:, label_col] = 0\n",
    "    T, col_nums = data.shape\n",
    "    features = np.zeros((step + additional, T - step - additional, col_nums))\n",
    "    for i in range(step + additional):\n",
    "        if i < step:\n",
    "            features[i, :, :] = data[i : T - step - additional + i, :]\n",
    "        else:\n",
    "            features[i, :, :] = data_copy[i : T - step - additional + i, :]\n",
    "    labels = data[step : T - additional, [label_col]].reshape((-1, 1))\n",
    "    return features.transpose(1, 0, 2), labels\n",
    "\n",
    "\n",
    "time_step = 10\n",
    "additional = 5\n",
    "X, y = create_dataset(scaled_data, 0, time_step, additional)\n",
    "\n",
    "print(X.shape, y.shape)\n",
    "\n",
    "\n",
    "class TimeSeriesDataset(Dataset):\n",
    "    def __init__(self, X, Y):\n",
    "        self.X = torch.tensor(X, dtype=torch.float32)\n",
    "        self.Y = torch.tensor(Y, dtype=torch.float32)\n",
    "\n",
    "    def __len__(self):\n",
    "        return len(self.Y)\n",
    "\n",
    "    def __getitem__(self, idx):\n",
    "        return self.X[idx], self.Y[idx]\n",
    "\n",
    "\n",
    "print(\"X.shape:\", X.shape)\n",
    "dataset = TimeSeriesDataset(X, y)\n",
    "train_loader = DataLoader(dataset, batch_size=32, shuffle=True)\n",
    "\n",
    "\n",
    "class PositionalEncoding(nn.Module):\n",
    "    def __init__(self, d_model, max_len=15000):\n",
    "        super(PositionalEncoding, self).__init__()\n",
    "        pe = torch.zeros(max_len, d_model)\n",
    "        position = torch.arange(0, max_len, dtype=torch.float).unsqueeze(1)\n",
    "        div_term = torch.exp(\n",
    "            torch.arange(0, d_model, 2).float() * (-np.log(10000.0) / d_model)\n",
    "        )\n",
    "        pe[:, 0::2] = torch.sin(position * div_term)\n",
    "        pe[:, 1::2] = torch.cos(position * div_term)\n",
    "        pe = pe.unsqueeze(0).transpose(0, 1)\n",
    "        self.register_buffer(\"pe\", pe)\n",
    "\n",
    "    def forward(self, x):\n",
    "        return x + self.pe[: x.size(0), :]"
   ]
  },
  {
   "cell_type": "code",
   "execution_count": 2,
   "metadata": {},
   "outputs": [
    {
     "data": {
      "text/plain": [
       "((6420, 15, 6), (6420, 1))"
      ]
     },
     "execution_count": 2,
     "metadata": {},
     "output_type": "execute_result"
    }
   ],
   "source": [
    "X.shape,y.shape"
   ]
  },
  {
   "cell_type": "code",
   "execution_count": 18,
   "metadata": {},
   "outputs": [],
   "source": [
    "# 定义时间序列预测模型\n",
    "class MultivariateTimeSeriesTransformer(nn.Module):\n",
    "    def __init__(\n",
    "        self,\n",
    "        input_size,\n",
    "        num_heads,\n",
    "        hidden_size,\n",
    "        num_layers,\n",
    "        dim_feedforward,\n",
    "        n_step,\n",
    "        dropout=0.1,\n",
    "    ):\n",
    "        super().__init__()\n",
    "        self.positional_encoding = PositionalEncoding(input_size)\n",
    "        self.pre_fc1 = nn.Linear(input_size, dim_feedforward)\n",
    "        # self.pre_fc2 = nn.Linear(dim_feedforward, input_size)\n",
    "        self.attn = nn.MultiheadAttention(\n",
    "            input_size, num_heads, dropout=dropout, batch_first=True\n",
    "        )\n",
    "        self.lstm = nn.LSTM(\n",
    "            input_size, hidden_size, num_layers, batch_first=True, bidirectional=True\n",
    "        )\n",
    "        self.faltten = nn.Flatten()\n",
    "        self.out_fc1 = nn.Linear(180, 64)\n",
    "        self.out_fc2 = nn.Linear(64, 1)\n",
    "\n",
    "    def forward(self, x):\n",
    "        hidden = None\n",
    "        x = self.positional_encoding(x)\n",
    "        x = self.pre_fc1(x)\n",
    "        # print('pre_fc1(x).shape',x.shape)\n",
    "        x = self.pre_fc2(x)\n",
    "        # print('pre_fc2(x).shape',x.shape)\n",
    "        x, _ = self.attn(x, x, x)\n",
    "        # print('attn(x).shape',x.shape)\n",
    "        x, hidden = self.lstm(x, hidden)\n",
    "        # print('lstm(x).shape',x.shape)\n",
    "        x = self.faltten(x)\n",
    "        # print('faltten(x).shape',x.shape)\n",
    "        x = self.out_fc1(x)\n",
    "        # print('out_fc1(x).shape',x.shape)\n",
    "        x = self.out_fc2(x)\n",
    "        # print('out_fc2(x).shape',x.shape)\n",
    "        return x"
   ]
  },
  {
   "cell_type": "code",
   "execution_count": 19,
   "metadata": {},
   "outputs": [],
   "source": [
    "# 模型初始化\n",
    "input_size = 6\n",
    "num_heads = 2\n",
    "hidden_size= 6\n",
    "n_step=15\n",
    "num_layers = 6\n",
    "dim_feedforward = 256\n",
    "\n",
    "dropout = 0.1\n",
    "\n",
    "model = MultivariateTimeSeriesTransformer(\n",
    "    input_size, num_heads, hidden_size, num_layers, dim_feedforward,n_step, dropout\n",
    ")"
   ]
  },
  {
   "cell_type": "code",
   "execution_count": 20,
   "metadata": {},
   "outputs": [
    {
     "name": "stdout",
     "output_type": "stream",
     "text": [
      "('positional_encoding', PositionalEncoding())\n",
      "('pre_fc1', Linear(in_features=6, out_features=256, bias=True))\n",
      "('attn', MultiheadAttention(\n",
      "  (out_proj): NonDynamicallyQuantizableLinear(in_features=6, out_features=6, bias=True)\n",
      "))\n",
      "('lstm', LSTM(6, 6, num_layers=6, batch_first=True, bidirectional=True))\n",
      "('faltten', Flatten(start_dim=1, end_dim=-1))\n",
      "('out_fc1', Linear(in_features=180, out_features=64, bias=True))\n",
      "('out_fc2', Linear(in_features=64, out_features=1, bias=True))\n"
     ]
    }
   ],
   "source": [
    "for node in model.named_children():\n",
    "    print(node)"
   ]
  },
  {
   "cell_type": "code",
   "execution_count": 22,
   "metadata": {},
   "outputs": [],
   "source": [
    "criterion = nn.CrossEntropyLoss()\n",
    "optimizer = torch.optim.Adam(model.parameters(), lr=0.01)"
   ]
  },
  {
   "cell_type": "code",
   "execution_count": 23,
   "metadata": {},
   "outputs": [
    {
     "name": "stdout",
     "output_type": "stream",
     "text": [
      "torch.Size([32, 15, 6]) torch.Size([32, 1])\n"
     ]
    }
   ],
   "source": [
    "for x1,y1 in train_loader:\n",
    "    print(x1.shape,y1.shape)\n",
    "    break"
   ]
  },
  {
   "cell_type": "code",
   "execution_count": 24,
   "metadata": {},
   "outputs": [
    {
     "ename": "AttributeError",
     "evalue": "'MultivariateTimeSeriesTransformer' object has no attribute 'pre_fc2'",
     "output_type": "error",
     "traceback": [
      "\u001b[1;31m---------------------------------------------------------------------------\u001b[0m",
      "\u001b[1;31mAttributeError\u001b[0m                            Traceback (most recent call last)",
      "Cell \u001b[1;32mIn[24], line 8\u001b[0m\n\u001b[0;32m      4\u001b[0m model\u001b[38;5;241m.\u001b[39mtrain()\n\u001b[0;32m      5\u001b[0m \u001b[38;5;28;01mfor\u001b[39;00m x_batch, y_batch \u001b[38;5;129;01min\u001b[39;00m train_loader:\n\u001b[0;32m      6\u001b[0m     \u001b[38;5;66;03m# x_batch = x_batch.view(-1, time_step, input_size)\u001b[39;00m\n\u001b[0;32m      7\u001b[0m     \u001b[38;5;66;03m# y_batch = y_batch.view(-1, 1)\u001b[39;00m\n\u001b[1;32m----> 8\u001b[0m     outputs \u001b[38;5;241m=\u001b[39m \u001b[43mmodel\u001b[49m\u001b[43m(\u001b[49m\u001b[43mx_batch\u001b[49m\u001b[43m)\u001b[49m\n\u001b[0;32m      9\u001b[0m     \u001b[38;5;66;03m# print('x_batch.shape,y_batch.shape,outputs.shape')\u001b[39;00m\n\u001b[0;32m     10\u001b[0m     \u001b[38;5;66;03m# print(x_batch.shape,y_batch.shape,outputs.shape)\u001b[39;00m\n\u001b[0;32m     11\u001b[0m     loss \u001b[38;5;241m=\u001b[39m criterion(outputs, y_batch)\n",
      "File \u001b[1;32md:\\ProgramData\\anaconda3\\Lib\\site-packages\\torch\\nn\\modules\\module.py:1518\u001b[0m, in \u001b[0;36mModule._wrapped_call_impl\u001b[1;34m(self, *args, **kwargs)\u001b[0m\n\u001b[0;32m   1516\u001b[0m     \u001b[38;5;28;01mreturn\u001b[39;00m \u001b[38;5;28mself\u001b[39m\u001b[38;5;241m.\u001b[39m_compiled_call_impl(\u001b[38;5;241m*\u001b[39margs, \u001b[38;5;241m*\u001b[39m\u001b[38;5;241m*\u001b[39mkwargs)  \u001b[38;5;66;03m# type: ignore[misc]\u001b[39;00m\n\u001b[0;32m   1517\u001b[0m \u001b[38;5;28;01melse\u001b[39;00m:\n\u001b[1;32m-> 1518\u001b[0m     \u001b[38;5;28;01mreturn\u001b[39;00m \u001b[38;5;28;43mself\u001b[39;49m\u001b[38;5;241;43m.\u001b[39;49m\u001b[43m_call_impl\u001b[49m\u001b[43m(\u001b[49m\u001b[38;5;241;43m*\u001b[39;49m\u001b[43margs\u001b[49m\u001b[43m,\u001b[49m\u001b[43m \u001b[49m\u001b[38;5;241;43m*\u001b[39;49m\u001b[38;5;241;43m*\u001b[39;49m\u001b[43mkwargs\u001b[49m\u001b[43m)\u001b[49m\n",
      "File \u001b[1;32md:\\ProgramData\\anaconda3\\Lib\\site-packages\\torch\\nn\\modules\\module.py:1527\u001b[0m, in \u001b[0;36mModule._call_impl\u001b[1;34m(self, *args, **kwargs)\u001b[0m\n\u001b[0;32m   1522\u001b[0m \u001b[38;5;66;03m# If we don't have any hooks, we want to skip the rest of the logic in\u001b[39;00m\n\u001b[0;32m   1523\u001b[0m \u001b[38;5;66;03m# this function, and just call forward.\u001b[39;00m\n\u001b[0;32m   1524\u001b[0m \u001b[38;5;28;01mif\u001b[39;00m \u001b[38;5;129;01mnot\u001b[39;00m (\u001b[38;5;28mself\u001b[39m\u001b[38;5;241m.\u001b[39m_backward_hooks \u001b[38;5;129;01mor\u001b[39;00m \u001b[38;5;28mself\u001b[39m\u001b[38;5;241m.\u001b[39m_backward_pre_hooks \u001b[38;5;129;01mor\u001b[39;00m \u001b[38;5;28mself\u001b[39m\u001b[38;5;241m.\u001b[39m_forward_hooks \u001b[38;5;129;01mor\u001b[39;00m \u001b[38;5;28mself\u001b[39m\u001b[38;5;241m.\u001b[39m_forward_pre_hooks\n\u001b[0;32m   1525\u001b[0m         \u001b[38;5;129;01mor\u001b[39;00m _global_backward_pre_hooks \u001b[38;5;129;01mor\u001b[39;00m _global_backward_hooks\n\u001b[0;32m   1526\u001b[0m         \u001b[38;5;129;01mor\u001b[39;00m _global_forward_hooks \u001b[38;5;129;01mor\u001b[39;00m _global_forward_pre_hooks):\n\u001b[1;32m-> 1527\u001b[0m     \u001b[38;5;28;01mreturn\u001b[39;00m \u001b[43mforward_call\u001b[49m\u001b[43m(\u001b[49m\u001b[38;5;241;43m*\u001b[39;49m\u001b[43margs\u001b[49m\u001b[43m,\u001b[49m\u001b[43m \u001b[49m\u001b[38;5;241;43m*\u001b[39;49m\u001b[38;5;241;43m*\u001b[39;49m\u001b[43mkwargs\u001b[49m\u001b[43m)\u001b[49m\n\u001b[0;32m   1529\u001b[0m \u001b[38;5;28;01mtry\u001b[39;00m:\n\u001b[0;32m   1530\u001b[0m     result \u001b[38;5;241m=\u001b[39m \u001b[38;5;28;01mNone\u001b[39;00m\n",
      "Cell \u001b[1;32mIn[18], line 32\u001b[0m, in \u001b[0;36mMultivariateTimeSeriesTransformer.forward\u001b[1;34m(self, x)\u001b[0m\n\u001b[0;32m     30\u001b[0m x \u001b[38;5;241m=\u001b[39m \u001b[38;5;28mself\u001b[39m\u001b[38;5;241m.\u001b[39mpre_fc1(x)\n\u001b[0;32m     31\u001b[0m \u001b[38;5;66;03m# print('pre_fc1(x).shape',x.shape)\u001b[39;00m\n\u001b[1;32m---> 32\u001b[0m x \u001b[38;5;241m=\u001b[39m \u001b[38;5;28;43mself\u001b[39;49m\u001b[38;5;241;43m.\u001b[39;49m\u001b[43mpre_fc2\u001b[49m(x)\n\u001b[0;32m     33\u001b[0m \u001b[38;5;66;03m# print('pre_fc2(x).shape',x.shape)\u001b[39;00m\n\u001b[0;32m     34\u001b[0m x, _ \u001b[38;5;241m=\u001b[39m \u001b[38;5;28mself\u001b[39m\u001b[38;5;241m.\u001b[39mattn(x, x, x)\n",
      "File \u001b[1;32md:\\ProgramData\\anaconda3\\Lib\\site-packages\\torch\\nn\\modules\\module.py:1695\u001b[0m, in \u001b[0;36mModule.__getattr__\u001b[1;34m(self, name)\u001b[0m\n\u001b[0;32m   1693\u001b[0m     \u001b[38;5;28;01mif\u001b[39;00m name \u001b[38;5;129;01min\u001b[39;00m modules:\n\u001b[0;32m   1694\u001b[0m         \u001b[38;5;28;01mreturn\u001b[39;00m modules[name]\n\u001b[1;32m-> 1695\u001b[0m \u001b[38;5;28;01mraise\u001b[39;00m \u001b[38;5;167;01mAttributeError\u001b[39;00m(\u001b[38;5;124mf\u001b[39m\u001b[38;5;124m\"\u001b[39m\u001b[38;5;124m'\u001b[39m\u001b[38;5;132;01m{\u001b[39;00m\u001b[38;5;28mtype\u001b[39m(\u001b[38;5;28mself\u001b[39m)\u001b[38;5;241m.\u001b[39m\u001b[38;5;18m__name__\u001b[39m\u001b[38;5;132;01m}\u001b[39;00m\u001b[38;5;124m'\u001b[39m\u001b[38;5;124m object has no attribute \u001b[39m\u001b[38;5;124m'\u001b[39m\u001b[38;5;132;01m{\u001b[39;00mname\u001b[38;5;132;01m}\u001b[39;00m\u001b[38;5;124m'\u001b[39m\u001b[38;5;124m\"\u001b[39m)\n",
      "\u001b[1;31mAttributeError\u001b[0m: 'MultivariateTimeSeriesTransformer' object has no attribute 'pre_fc2'"
     ]
    }
   ],
   "source": [
    "# 训练模型\n",
    "num_epochs = 100\n",
    "for epoch in range(num_epochs):\n",
    "    model.train()\n",
    "    for x_batch, y_batch in train_loader:\n",
    "        # x_batch = x_batch.view(-1, time_step, input_size)\n",
    "        # y_batch = y_batch.view(-1, 1)\n",
    "        outputs = model(x_batch)\n",
    "        # print('x_batch.shape,y_batch.shape,outputs.shape')\n",
    "        # print(x_batch.shape,y_batch.shape,outputs.shape)\n",
    "        loss = criterion(outputs, y_batch)\n",
    "\n",
    "        optimizer.zero_grad()\n",
    "        loss.backward()\n",
    "        optimizer.step()\n",
    "\n",
    "    if (epoch + 1) % 2== 0:\n",
    "        print(f\"Epoch [{epoch + 1}/{num_epochs}], Loss: {loss.item():.4f}\")"
   ]
  },
  {
   "cell_type": "code",
   "execution_count": 17,
   "metadata": {},
   "outputs": [
    {
     "name": "stdout",
     "output_type": "stream",
     "text": [
      "(6420,) (6420, 1)\n"
     ]
    },
    {
     "data": {
      "image/png": "[encoded data removed]",
      "text/plain": [
       "<Figure size 640x480 with 1 Axes>"
      ]
     },
     "metadata": {},
     "output_type": "display_data"
    }
   ],
   "source": [
    "# 预测\n",
    "model.eval()\n",
    "with torch.no_grad():\n",
    "    X_tensor = torch.tensor(X, dtype=torch.float32)\n",
    "    predictions = model(X_tensor).cpu().numpy()\n",
    "    \n",
    "predictions = scaler.inverse_transform(np.column_stack((predictions, np.zeros((len(predictions), 5)))))[:,0]\n",
    "print(predictions.shape,y.shape)\n",
    "# # 可视化结果\n",
    "plt.plot(np.arange(time_step, len(predictions) + time_step),df[time_step: len(predictions) + time_step]['Weekly_Sales'],label='Original Data')\n",
    "plt.plot(\n",
    "    np.arange(time_step, len(predictions) + time_step),\n",
    "    predictions,\n",
    "    label=\"Self-Attention Predictions\"\n",
    ")\n",
    "plt.legend()\n",
    "plt.show()"
   ]
  },
  {
   "cell_type": "code",
   "execution_count": 10,
   "metadata": {},
   "outputs": [
    {
     "data": {
      "text/plain": [
       "Date\n",
       "16-04-2010    1466058.28\n",
       "23-04-2010    1391256.12\n",
       "30-04-2010    1425100.71\n",
       "07-05-2010    1603955.12\n",
       "14-05-2010    1494251.50\n",
       "                 ...    \n",
       "24-08-2012     718232.26\n",
       "31-08-2012     734297.87\n",
       "07-09-2012     766512.66\n",
       "14-09-2012     702238.27\n",
       "21-09-2012     723086.20\n",
       "Name: Weekly_Sales, Length: 6420, dtype: float64"
      ]
     },
     "execution_count": 10,
     "metadata": {},
     "output_type": "execute_result"
    }
   ],
   "source": [
    "df[time_step: len(predictions) + time_step]['Weekly_Sales']\n"
   ]
  },
  {
   "cell_type": "code",
   "execution_count": 11,
   "metadata": {},
   "outputs": [
    {
     "data": {
      "text/plain": [
       "((6420, 1), (6420, 1))"
      ]
     },
     "execution_count": 11,
     "metadata": {},
     "output_type": "execute_result"
    }
   ],
   "source": [
    "y.shape,predictions.shape"
   ]
  },
  {
   "cell_type": "code",
   "execution_count": 12,
   "metadata": {},
   "outputs": [
    {
     "data": {
      "text/plain": [
       "array([[-0.02664799],\n",
       "       [-0.02669212],\n",
       "       [-0.02674077],\n",
       "       ...,\n",
       "       [-0.02680262],\n",
       "       [-0.02681417],\n",
       "       [-0.0267976 ]], dtype=float32)"
      ]
     },
     "execution_count": 12,
     "metadata": {},
     "output_type": "execute_result"
    }
   ],
   "source": [
    "predictions"
   ]
  },
  {
   "cell_type": "code",
   "execution_count": 13,
   "metadata": {},
   "outputs": [
    {
     "data": {
      "text/plain": [
       "Date\n",
       "05-02-2010    1643690.90\n",
       "12-02-2010    1641957.44\n",
       "19-02-2010    1611968.17\n",
       "26-02-2010    1409727.59\n",
       "05-03-2010    1554806.68\n",
       "                 ...    \n",
       "28-09-2012     713173.95\n",
       "05-10-2012     733455.07\n",
       "12-10-2012     734464.36\n",
       "19-10-2012     718125.53\n",
       "26-10-2012     760281.43\n",
       "Name: Weekly_Sales, Length: 6435, dtype: float64"
      ]
     },
     "execution_count": 13,
     "metadata": {},
     "output_type": "execute_result"
    }
   ],
   "source": [
    "df['Weekly_Sales']"
   ]
  }
 ],
 "metadata": {
  "kernelspec": {
   "display_name": "base",
   "language": "python",
   "name": "python3"
  },
  "language_info": {
   "codemirror_mode": {
    "name": "ipython",
    "version": 3
   },
   "file_extension": ".py",
   "mimetype": "text/x-python",
   "name": "python",
   "nbconvert_exporter": "python",
   "pygments_lexer": "ipython3",
   "version": "3.11.5"
  }
 },
 "nbformat": 4,
 "nbformat_minor": 2
}
